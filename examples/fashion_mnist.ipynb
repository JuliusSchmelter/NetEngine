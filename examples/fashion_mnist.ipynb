{
 "cells": [
  {
   "cell_type": "markdown",
   "metadata": {},
   "source": [
    "# Netengine Example: Fashion MNIST Dataset\n",
    "Recognizing clothing items in 28x28 grayscale images.\n",
    "\n",
    "## Imports and Constants"
   ]
  },
  {
   "cell_type": "code",
   "execution_count": 7,
   "metadata": {},
   "outputs": [],
   "source": [
    "import netengine\n",
    "from linetimer import CodeTimer\n",
    "\n",
    "# Size of training and validation datasets.\n",
    "N_TRAIN = 60_000\n",
    "N_TEST = 10_000\n",
    "\n",
    "# Number of neurons in each layer.\n",
    "LAYOUT = [28 * 28, 400, 150, 10]\n",
    "\n",
    "# The learning rate for regular weights.\n",
    "ETA = 0.1\n",
    "\n",
    "# The learning rate for the bias weights.\n",
    "ETA_BIAS = 0.02\n",
    "\n",
    "# The size of one training batch. Between each batch, the accuracy is calculated.\n",
    "BATCH_SIZE = 10_000\n",
    "\n",
    "# Define target vectors.\n",
    "# Each possible classification is represented by one position in the target vector.\n",
    "TARGETS = []\n",
    "for i in range(10):\n",
    "    target = [0] * 10\n",
    "    target[i] = 1\n",
    "    TARGETS.append(target)"
   ]
  },
  {
   "cell_type": "markdown",
   "metadata": {},
   "source": [
    "## Loading Training and Validation Datasets"
   ]
  },
  {
   "cell_type": "code",
   "execution_count": 8,
   "metadata": {},
   "outputs": [
    {
     "name": "stdout",
     "output_type": "stream",
     "text": [
      "Code block 'load test data' took: 578.84202 ms\n",
      "Code block 'load training data' took: 3039.88780 ms\n"
     ]
    }
   ],
   "source": [
    "# Load test data.\n",
    "with CodeTimer(\"load test data\"):\n",
    "    with open(\"../data/fashion_mnist/test_labels\", \"rb\") as file:\n",
    "        # Skip header.\n",
    "        file.seek(8)\n",
    "        test_labels = [TARGETS[int(i)] for i in file.read()][:N_TEST]\n",
    "\n",
    "    test_images = []\n",
    "    with open(\"../data/fashion_mnist/test_images\", \"rb\") as file:\n",
    "        # Skip header.\n",
    "        file.seek(16)\n",
    "        for i in range(N_TEST):\n",
    "            # Scale to [0, 1].\n",
    "            test_images.append([pixel / 255.0 for pixel in file.read(28 * 28)])\n",
    "\n",
    "# Load training data.\n",
    "with CodeTimer(\"load training data\"):\n",
    "    with open(\"../data/fashion_mnist/train_labels\", \"rb\") as file:\n",
    "        # Skip header.\n",
    "        file.seek(8)\n",
    "        train_labels = [TARGETS[int(i)] for i in file.read()][:N_TRAIN]\n",
    "\n",
    "    train_images = []\n",
    "    with open(\"../data/fashion_mnist/train_images\", \"rb\") as file:\n",
    "        # Skip header.\n",
    "        file.seek(16)\n",
    "        for i in range(N_TRAIN):\n",
    "            # Scale to [0, 1].\n",
    "            train_images.append([pixel / 255.0 for pixel in file.read(28 * 28)])"
   ]
  },
  {
   "cell_type": "markdown",
   "metadata": {},
   "source": [
    "## Create, Train and Test the Network\n",
    "\n",
    "Get network instance. Check if CUDA-capable device has been found."
   ]
  },
  {
   "cell_type": "code",
   "execution_count": 9,
   "metadata": {},
   "outputs": [
    {
     "name": "stdout",
     "output_type": "stream",
     "text": [
      "Code block 'create net' took: 12.74952 ms\n",
      "\n",
      "layout: 784 | 400 | 150 | 10\n",
      "parameters: 375660\n",
      "eta: 0.1\n",
      "eta_bias: 0.02\n",
      "\n",
      "net.cuda_enabled() = True\n",
      "\n"
     ]
    }
   ],
   "source": [
    "with CodeTimer(\"create net\"):\n",
    "    net = netengine.Net(LAYOUT, ETA, ETA_BIAS, True)\n",
    "\n",
    "print()\n",
    "print(net)\n",
    "print(f\"\\n{net.cuda_enabled() = }\\n\")"
   ]
  },
  {
   "cell_type": "markdown",
   "metadata": {},
   "source": [
    "Train and test the network."
   ]
  },
  {
   "cell_type": "code",
   "execution_count": null,
   "metadata": {},
   "outputs": [],
   "source": [
    "trained = 0\n",
    "acc = 0\n",
    "max_acc = 0\n",
    "max_acc_at = 0\n",
    "while True:\n",
    "    # Train one batch.\n",
    "    with CodeTimer(\"train\"):\n",
    "        net.train(train_images, train_labels, BATCH_SIZE, trained % N_TRAIN)\n",
    "\n",
    "    trained += BATCH_SIZE\n",
    "\n",
    "    # Test the classification accuracy.\n",
    "    with CodeTimer(\"test\"):\n",
    "        acc = net.test(test_images, test_labels)\n",
    "\n",
    "    # Stop training if the accuracy is decreasing.\n",
    "    if (1 - acc) > 1.5 * (1 - max_acc):\n",
    "        print(f\"training stopped. accuracy: {100 * acc:.2f}% | trained: {trained}\")\n",
    "        break\n",
    "\n",
    "    # Save the best accuracy.\n",
    "    if acc > max_acc:\n",
    "        max_acc = acc\n",
    "        max_acc_at = trained\n",
    "\n",
    "    # Print the results.\n",
    "    print(f\"accuracy: {100 * acc:.2f}% | trained: {trained}\")\n",
    "    print(f\"maximum accuracy: {100 * max_acc:.2f}% | at trained: {max_acc_at}\\n\")"
   ]
  },
  {
   "cell_type": "markdown",
   "metadata": {},
   "source": [
    "## Results\n",
    "\n",
    "---\n",
    "\n",
    "layout: 784 | 400 | 150 | 10\n",
    "\n",
    "parameters: 375,660\n",
    "\n",
    "eta: 0.1\n",
    "\n",
    "eta_bias: 0.02\n",
    "\n",
    "maximum accuracy: 71.38% | at trained: 120,000"
   ]
  }
 ],
 "metadata": {
  "kernelspec": {
   "display_name": ".env",
   "language": "python",
   "name": "python3"
  },
  "language_info": {
   "codemirror_mode": {
    "name": "ipython",
    "version": 3
   },
   "file_extension": ".py",
   "mimetype": "text/x-python",
   "name": "python",
   "nbconvert_exporter": "python",
   "pygments_lexer": "ipython3",
   "version": "3.11.4"
  }
 },
 "nbformat": 4,
 "nbformat_minor": 2
}
